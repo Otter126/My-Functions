{
 "cells": [
  {
   "cell_type": "code",
   "execution_count": 5,
   "metadata": {},
   "outputs": [],
   "source": [
    "def Fortune_Cookie():\n",
    "    cookie = input()\n",
    "\n",
    "    if cookie == '1':\n",
    "        print(\"You will eat a stale cookie.\")\n",
    "    elif cookie == '2':\n",
    "          print(\"You will buy some socks that have mauve colored stripes.\")\n",
    "    elif cookie == '3':\n",
    "         print(\"You are going to be attacked by a small dog with big ears in the kitchen.\")\n",
    "    elif cookie == '4':\n",
    "         print(\"Beware of people with large heads and small butts.\")\n",
    "    elif cookie == '5':\n",
    "         print(\"You will be annoyed by a rat hounds's barking.\" )\n",
    "    elif cookie == '6':\n",
    "         print(\"You will be attacked by crazed squirrels\")\n",
    "    elif cookie == '7':\n",
    "         print(\"Eat Ham!!!\")\n",
    "    elif cookie == 'W':\n",
    "         print(\"You found a secret!; Too bad! Waluigi time!\") \n",
    "    elif cookie == '8':\n",
    "        print(\"You will watch Thomas the Train.\")\n",
    "    elif cookie == '9':\n",
    "        print(\"You will have bad gas the next time you ride an elevator.\")\n",
    "    elif cookie == '10':\n",
    "        print(\"Did you know there are secrets hidden in this game?(Function)\")\n",
    "    elif cookie == '12345678910':\n",
    "        print(\"Wow! You put all the numbers in.This is a secret; TURDUCKEN!!!\")\n",
    "    elif cookie == 'D':\n",
    "        print(\"This is a secret;D!D!D! that's the name you should know...\")\n",
    "    elif cookie == '26':\n",
    "        print(\"Secret time! 26 is my favorite number!\")\n",
    "    elif cookie == 'Rex':\n",
    "        print(\"You found a secret!; Rex the runt, Rex the runt! time for another doggy dialouge!...\")\n",
    "    else:\n",
    "         print(\"Between 1 and 10 you dork!\")"
   ]
  },
  {
   "cell_type": "code",
   "execution_count": 6,
   "metadata": {},
   "outputs": [
    {
     "name": "stdout",
     "output_type": "stream",
     "text": [
      "You found a secret!; Rex the runt, Rex the runt! time for another doggy dialouge!...\n"
     ]
    }
   ],
   "source": [
    "Fortune_Cookie()"
   ]
  },
  {
   "cell_type": "code",
   "execution_count": null,
   "metadata": {},
   "outputs": [],
   "source": []
  }
 ],
 "metadata": {
  "kernelspec": {
   "display_name": "Python 3",
   "language": "python",
   "name": "python3"
  },
  "language_info": {
   "codemirror_mode": {
    "name": "ipython",
    "version": 3
   },
   "file_extension": ".py",
   "mimetype": "text/x-python",
   "name": "python",
   "nbconvert_exporter": "python",
   "pygments_lexer": "ipython3",
   "version": "3.6.5"
  }
 },
 "nbformat": 4,
 "nbformat_minor": 2
}
